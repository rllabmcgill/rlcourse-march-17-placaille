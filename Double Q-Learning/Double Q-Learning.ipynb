{
 "cells": [
  {
   "cell_type": "markdown",
   "metadata": {},
   "source": [
    "## Double Q-Learning\n",
    "\n",
    "In this assignment, I will explore the Double Q-Learning algorithm as proposed in [Hasselt, 2010](https://papers.nips.cc/paper/3964-double-q-learning).\n",
    "\n",
    "Some theoretical aspect of the algorithm will be explored and using a small stochastic environment we will look at performance in comparison to regular Q-Learning."
   ]
  },
  {
   "cell_type": "markdown",
   "metadata": {},
   "source": [
    "### Background\n",
    "\n",
    "As a reminder, the regular Q-Learning update rule is as follows:\n",
    "\n",
    "$Q_{t+1}(s_t, a_t) = Q_{t}(s_t, a_t) + \\alpha_t(s_t, a_t) \\big(r_t + \\gamma \\max_a Q_{t}(s_{t+1}, a_t) - Q_{t}(s_t, a_t) \\big)$\n",
    "\n",
    "One of the major advantage of Q-Learning is its use of the value of the maximally valued action at the upcoming state to update the value of the current state-action pair. In general, this is highly desired as it gives conceptually a great estimate of the current state.\n",
    "\n",
    "However, the article mentions that this advantage can be costly as it overestimates the value of a state-action pair based on the observed rewards. Under a deterministic environment, it can be understood that this does not apply, but under a stochastic environment it should be considered as maybe the value obtained shouldn't be so much trusted.\n",
    "\n",
    "The authors then expand by mentionning a double estimator that will provide an estimate of the maximum value of the new state that allows to reduce that overestimation, which is the Double Q-Learning algorithm."
   ]
  },
  {
   "cell_type": "markdown",
   "metadata": {},
   "source": [
    "### Theoretical aspect of Double Q-Learning\n",
    "\n",
    "The goal of this method is to reduce the risk of estimation of the state-action pair by using a second estimator. The authors argue using the following lemma that Double Q-Learning indeed reduces the the overestimation.\n",
    "\n",
    "##### Lemma\n",
    "> Let $X=\\{X_1, \\dots, X_M\\}$ be a set of random variables and let $\\mu^A=\\{\\mu_1^A, \\dots, \\mu_M^A\\}$ and $\\mu^B=\\{\\mu_1^B, \\dots, \\mu_M^B\\}$ be two sets of unbiased estimators such that $E\\{\\mu_i^A \\} = E\\{\\mu_i^B \\} = E\\{X_i \\}$, for all $i$. Let $\\mathcal{M} \\doteq \\big \\{ j  \\vert E\\{ X_j \\} = \\max_i E\\{ X_i \\} \\big \\}$ be the set of elements that maximize the expected values. Let $a^*$ be an element that maximizes $\\mu^A:\\mu^A_{a^*} = \\max_i \\mu^A_i$.\n",
    ">\n",
    "> Then $E\\{\\mu_{a^*}^B \\} = E\\{X_{a^*} \\} \\le \\max_i E\\{X_i \\}$.\n",
    ">\n",
    "> Furthermore, the inequality is stict if and only if $P(a^* \\notin \\mathcal{M}) \\gt 0$.\n",
    "\n",
    "#### What does this mean?\n",
    "\n",
    "The above mentioned lemma proposed by the authors means that the expected value obtained by the second estimator which is based on the maximal value of the first estimator must be lower or equal to the expected value of the maximally value sampled variable.\n",
    "\n",
    "Here the last term $\\max_i E\\{X_i \\}$ represents the Q-Learning algorithm with $\\max_a E\\{Q_t(s_{t+1}, a_t) \\}$, where according to that algorithm, we evaluate a state-action as its highest sampled reward.\n",
    "\n",
    "The authors argued that the Q-Learning algorithms overestimates the values. Their point is that using a double estimator as just described above ($E\\{\\mu_{a^*}^B \\}$) is guaranteed to be lower than or equal to the Q-Learning value, therefore reducing the risk of overestimation.\n",
    "\n",
    "#### Proof of lemma\n",
    "\n",
    "Here is a quick rundown of the proof provided in the article with regards to this lemma.\n",
    "\n",
    "> Assume $a^* \\in \\mathcal{M}$, then $E\\{\\mu_{a^*}^B \\} = E\\{X_{a^*} \\} = E\\{X_{j} \\} \\doteq \\max_i E\\{X_i \\}$\n",
    "\n",
    "This is true as per the definition of $\\mathcal{M}$ being a set of possibilities that maximize $E\\{X_{i} \\}$.\n",
    "\n",
    "> Now assume that $a^* \\notin \\mathcal{M}$, then $E\\{\\mu_{a^*}^B \\} = E\\{X_{a^*} \\} \\lt E\\{X_{j} \\} \\doteq \\max_i E\\{X_i \\}$\n",
    "\n",
    "This is also true because by definition, if it's not part of $\\mathcal{M}$, it doesn't maximize $E\\{X_{i} \\}$ and therefore needs to be less.\n",
    "\n",
    "The authors then shows that since these two possibilities are mutually exclusive (either being or not in $\\mathcal{M}$), the expectation can be rewritten as the following.\n",
    "\n",
    "> $\\begin{align}\n",
    "E\\{\\mu_{a^*}^B \\} &= E\\{\\mu_{a^*}^B \\vert a^* \\in \\mathcal{M} \\} P(a^* \\in \\mathcal{M}) + E\\{\\mu_{a^*}^B \\vert a^* \\notin \\mathcal{M} \\} P(a^* \\notin \\mathcal{M}) & \\\\\n",
    "&= \\max_i E\\{X_i \\} P(a^* \\in \\mathcal{M}) + E\\{\\mu_{a^*}^B \\vert a^* \\notin \\mathcal{M} \\} P(a^* \\notin \\mathcal{M}) \n",
    "\\end{align}$\n",
    "\n",
    "This is true as per just above mentioned elements, we can also provide an upper bound for $E\\{\\mu_{a^*}^B \\vert a^* \\notin \\mathcal{M} \\}$, furthermore due to the possibilities being mutually exclusive we can simplify,\n",
    "\n",
    "> $\\begin{align}\n",
    "E\\{\\mu_{a^*}^B \\} &= \\max_i E\\{X_i \\} P(a^* \\in \\mathcal{M}) + E\\{\\mu_{a^*}^B \\vert a^* \\notin \\mathcal{M} \\} P(a^* \\notin \\mathcal{M}) \\\\\n",
    "&\\le \\max_i E\\{X_i \\} P(a^* \\in \\mathcal{M}) + \\max_i E\\{X_i \\} P(a^* \\notin \\mathcal{M}) \\\\\n",
    "&\\le \\max_i E\\{X_i \\}\n",
    "\\end{align}$"
   ]
  },
  {
   "cell_type": "markdown",
   "metadata": {},
   "source": [
    "### The algorithm\n",
    "\n",
    "The goal of the algorithm is to have two Q-value functions (tables) that are used as target for the other one's update. Before updating, we select at random a Q-value table that will be updated and use the other one not being updated to get the value of the new maximum value for the new state.\n",
    "\n",
    "When choosing an action, the authors recommend averaging the Q-value form both tables to get which one is the best.\n",
    "\n",
    "Here is the algorithm in detail as per their article:\n",
    "<img src=\"double-Q-learning-algo.png\">"
   ]
  },
  {
   "cell_type": "markdown",
   "metadata": {
    "collapsed": true
   },
   "source": [
    "### Testing the algorithm\n",
    "\n",
    "To compare performance, we will be using the Open Ai gym, more specifically the FrozenLake environment, with modified rewards to insert additional stochasticity in the reward. In addition to basic reward system, at each non-terminal a random reward uniformly distributed between (-1.5, 0.5) is provided.\n",
    "\n",
    "This environment is basically a windy gridworld problem, where the agent can fall in the hole in the grid and the episode ends without a reward, otherwise a reward of 1 is provided when the goal is reached. Not all moves executed by the agent end up happening as planned due to wind.\n",
    "\n",
    "For more information on the environment, refer to [this page](https://gym.openai.com/envs/FrozenLake-v0)."
   ]
  },
  {
   "cell_type": "code",
   "execution_count": 1,
   "metadata": {
    "collapsed": true
   },
   "outputs": [],
   "source": [
    "%matplotlib inline\n",
    "import numpy as np\n",
    "import matplotlib.pyplot as plt\n",
    "import gym\n",
    "import pandas\n",
    "import pickle as pkl"
   ]
  },
  {
   "cell_type": "code",
   "execution_count": 2,
   "metadata": {
    "collapsed": false
   },
   "outputs": [
    {
     "name": "stderr",
     "output_type": "stream",
     "text": [
      "[2017-03-15 01:23:28,481] Making new env: FrozenLake-v0\n",
      "[2017-03-15 01:23:28,519] Making new env: FrozenLake-v0\n"
     ]
    },
    {
     "name": "stdout",
     "output_type": "stream",
     "text": [
      "Regular Q-Learning\n",
      "\u001b[41mS\u001b[0mFFF\n",
      "FHFH\n",
      "FFFH\n",
      "HFFG\n",
      "\n",
      "Double Q-Learning\n",
      "\u001b[41mS\u001b[0mFFF\n",
      "FHFH\n",
      "FFFH\n",
      "HFFG\n",
      "\n"
     ]
    },
    {
     "data": {
      "text/plain": [
       "<ipykernel.iostream.OutStream at 0x10e48f610>"
      ]
     },
     "execution_count": 2,
     "metadata": {},
     "output_type": "execute_result"
    }
   ],
   "source": [
    "env = []\n",
    "env.append(gym.make('FrozenLake-v0')) # Used for Regular Q-Learning\n",
    "env.append(gym.make('FrozenLake-v0')) # Used for Double Q-Learning\n",
    "print 'Regular Q-Learning'\n",
    "env[0].render()\n",
    "print 'Double Q-Learning'\n",
    "env[1].render()"
   ]
  },
  {
   "cell_type": "code",
   "execution_count": 3,
   "metadata": {
    "collapsed": false
   },
   "outputs": [],
   "source": [
    "nb_states = env[0].observation_space.n\n",
    "nb_actions = env[0].action_space.n\n",
    "\n",
    "# Settings for learning\n",
    "nb_episodes = 10000\n",
    "eps_init = 1.0\n",
    "lr_init = 0.2\n",
    "eps_decay = 0.999\n",
    "lr_decay = 0.999\n",
    "gamma = 0.9"
   ]
  },
  {
   "cell_type": "markdown",
   "metadata": {},
   "source": [
    "#### Regular Q-Learning"
   ]
  },
  {
   "cell_type": "code",
   "execution_count": 4,
   "metadata": {
    "collapsed": false
   },
   "outputs": [
    {
     "name": "stdout",
     "output_type": "stream",
     "text": [
      "- Regular Q ep 0 -- (lr, eps) (0.2, 1.0)\n",
      "- Regular Q ep 1000 -- (lr, eps) (0.07354, 0.3677)\n",
      "- Regular Q ep 2000 -- (lr, eps) (0.02704, 0.1352)\n",
      "- Regular Q ep 3000 -- (lr, eps) (0.00994, 0.04971)\n",
      "- Regular Q ep 4000 -- (lr, eps) (0.00366, 0.01828)\n",
      "- Regular Q ep 5000 -- (lr, eps) (0.00134, 0.00672)\n",
      "- Regular Q ep 6000 -- (lr, eps) (0.00049, 0.00247)\n",
      "- Regular Q ep 7000 -- (lr, eps) (0.00018, 0.00091)\n",
      "- Regular Q ep 8000 -- (lr, eps) (7e-05, 0.00033)\n",
      "- Regular Q ep 9000 -- (lr, eps) (2e-05, 0.00012)\n"
     ]
    }
   ],
   "source": [
    "eps = eps_init\n",
    "lr = lr_init\n",
    "Q = np.zeros((nb_states, nb_actions)) # Used for regular Q-Learning\n",
    "ep_rwrds_q = np.zeros(nb_episodes)\n",
    "for n in xrange(nb_episodes):\n",
    "\n",
    "    # reset the environment\n",
    "    curr_state = env[0].reset()\n",
    "\n",
    "    # reset params for the episode\n",
    "    steps = 1\n",
    "    tot_rwrd = 0\n",
    "    done = False\n",
    "\n",
    "    # loop until end of episode\n",
    "    while not done:\n",
    "\n",
    "        if np.random.random_sample() <= eps:\n",
    "            # choose action at random\n",
    "            action = env[0].action_space.sample()\n",
    "        else:\n",
    "            # choose greedy action\n",
    "            action = np.argmax(Q[curr_state, :])\n",
    "\n",
    "        # get new_state, reward for action and if reached the goal\n",
    "        new_state, rwrd, done, _ = env[0].step(action)\n",
    "\n",
    "        if not done:\n",
    "            rwrd = 2 * np.random.random_sample() - 1.5\n",
    "\n",
    "        # Apply regular Q-learning\n",
    "        max_action = np.argmax(Q[new_state, :]) # get max action at new state\n",
    "        error = rwrd + gamma * Q[new_state, max_action] - Q[curr_state, action]\n",
    "        Q[curr_state, action] += lr * error\n",
    "\n",
    "        curr_state = new_state\n",
    "        tot_rwrd += rwrd\n",
    "        steps += 1\n",
    "\n",
    "    # Store results\n",
    "    ep_rwrds_q[n] += tot_rwrd\n",
    "\n",
    "    if n % (nb_episodes / 10) == 0:\n",
    "        print '- Regular Q ep %s -- (lr, eps) (%s, %s)' %(n, np.round(lr, 5), np.round(eps, 5))\n",
    "\n",
    "    # Decay for next episode\n",
    "    eps *= eps_decay\n",
    "    lr *= lr_decay"
   ]
  },
  {
   "cell_type": "markdown",
   "metadata": {},
   "source": [
    "#### Double Q-Learning"
   ]
  },
  {
   "cell_type": "code",
   "execution_count": 5,
   "metadata": {
    "collapsed": false
   },
   "outputs": [
    {
     "name": "stdout",
     "output_type": "stream",
     "text": [
      "- Double Q ep 0 -- (lr, eps) (0.2, 1.0)\n",
      "- Double Q ep 1000 -- (lr, eps) (0.07354, 0.3677)\n",
      "- Double Q ep 2000 -- (lr, eps) (0.02704, 0.1352)\n",
      "- Double Q ep 3000 -- (lr, eps) (0.00994, 0.04971)\n",
      "- Double Q ep 4000 -- (lr, eps) (0.00366, 0.01828)\n",
      "- Double Q ep 5000 -- (lr, eps) (0.00134, 0.00672)\n",
      "- Double Q ep 6000 -- (lr, eps) (0.00049, 0.00247)\n",
      "- Double Q ep 7000 -- (lr, eps) (0.00018, 0.00091)\n",
      "- Double Q ep 8000 -- (lr, eps) (7e-05, 0.00033)\n",
      "- Double Q ep 9000 -- (lr, eps) (2e-05, 0.00012)\n"
     ]
    }
   ],
   "source": [
    "eps = eps_init\n",
    "lr = lr_init\n",
    "DQ = np.zeros((2, nb_states, nb_actions)) # Used for Double Q-Learning\n",
    "ep_rwrds_dq = np.zeros(nb_episodes)\n",
    "for n in xrange(nb_episodes):\n",
    "\n",
    "    # reset the environment\n",
    "    curr_state = env[1].reset()\n",
    "\n",
    "    # reset params for the episode\n",
    "    steps = 1\n",
    "    tot_rwrd = 0\n",
    "    done = False\n",
    "\n",
    "    # loop until end of episode\n",
    "    while not done:\n",
    "\n",
    "        if np.random.random_sample() <= eps:\n",
    "            # choose action at random\n",
    "            action = env[1].action_space.sample()\n",
    "        else:\n",
    "            # choose greedy action based on avg of Q-value functions\n",
    "            action = np.argmax(np.average(DQ, axis=0)[curr_state, :])\n",
    "\n",
    "        # get new_state, reward for action and if reached the goal\n",
    "        new_state, rwrd, done, _ = env[1].step(action)\n",
    "\n",
    "        if not done:\n",
    "            rwrd = 2 * np.random.random_sample() - 1.5\n",
    "\n",
    "        # Apply Double Q-learning\n",
    "        rdm_Q = np.random.randint(2) # choose Q-value that will be updated\n",
    "        max_action = np.argmax(DQ[rdm_Q, new_state, :]) # get max action at new state\n",
    "\n",
    "        # The error is calculated using the other Q-value function\n",
    "        error = rwrd + gamma * DQ[1 - rdm_Q, new_state, max_action] - DQ[rdm_Q, curr_state, action]\n",
    "\n",
    "        # Update is performed on selected Q-value function\n",
    "        DQ[rdm_Q, curr_state, action] += lr * error\n",
    "\n",
    "        curr_state = new_state\n",
    "        tot_rwrd += rwrd\n",
    "        steps += 1\n",
    "\n",
    "    # Store results\n",
    "    ep_rwrds_dq[n] += tot_rwrd\n",
    "\n",
    "    if n % (nb_episodes / 10) == 0:\n",
    "        print '- Double Q ep %s -- (lr, eps) (%s, %s)' %(n, np.round(lr, 5), np.round(eps, 5))\n",
    "\n",
    "    # Decay for next episode\n",
    "    eps *= eps_decay\n",
    "    lr *= lr_decay"
   ]
  },
  {
   "cell_type": "code",
   "execution_count": 50,
   "metadata": {
    "collapsed": false
   },
   "outputs": [
    {
     "name": "stderr",
     "output_type": "stream",
     "text": [
      "/usr/local/lib/python2.7/site-packages/ipykernel/__main__.py:7: FutureWarning: pd.rolling_mean is deprecated for ndarrays and will be removed in a future version\n",
      "/usr/local/lib/python2.7/site-packages/ipykernel/__main__.py:8: FutureWarning: pd.rolling_mean is deprecated for ndarrays and will be removed in a future version\n"
     ]
    },
    {
     "data": {
      "image/png": "[encoded data removed]",
      "text/plain": [
       "<matplotlib.figure.Figure at 0x10e691790>"
      ]
     },
     "metadata": {},
     "output_type": "display_data"
    }
   ],
   "source": [
    "x = xrange(nb_episodes)\n",
    "avg_size = nb_episodes\n",
    "\n",
    "print_q = ep_rwrds_q\n",
    "print_dq = ep_rwrds_dq\n",
    "\n",
    "y_q = pandas.rolling_mean(print_q, avg_size, min_periods=1)\n",
    "y_dq = pandas.rolling_mean(print_dq, avg_size, min_periods=1)\n",
    "\n",
    "plt.plot(x, y_q, label='Regular Q')\n",
    "plt.plot(x, y_dq, label='Double Q')\n",
    "plt.title('%s episode running average rewards' %avg_size)\n",
    "ymin, ymax = plt.ylim()\n",
    "plt.ylim((-4, -1.5))\n",
    "plt.legend(loc=2)\n",
    "plt.show()"
   ]
  },
  {
   "cell_type": "markdown",
   "metadata": {},
   "source": [
    "#### Experimental results\n",
    "\n",
    "We immediately notice the slight superior performance during the first 4,000 steps of Double Q-Learning in this small experiment under a stochastic environment. It is however important to point out that after 4,000 steps, Regular Q-Learning does catch up, and ultimately both converge to the same policy and average reward, which is to be anticipated.\n",
    "\n",
    "\n",
    "#### Discussion\n",
    "In order to reduce even more the chance of overestimation increase stability in Q-Learning, one could construct a wide array of Q-values and apply the same logic. One alternative is known as Multi Q-Learning as introduced in [Duryea *et al.*, 2016](http://dx.doi.org/10.4236/ica.2016.74012). The authors argue that implementing this new algorithm allows to increase stability, in particular for situations like non-linear function approximation such as by using deep neural nets."
   ]
  }
 ],
 "metadata": {
  "kernelspec": {
   "display_name": "Python 2",
   "language": "python",
   "name": "python2"
  },
  "language_info": {
   "codemirror_mode": {
    "name": "ipython",
    "version": 2
   },
   "file_extension": ".py",
   "mimetype": "text/x-python",
   "name": "python",
   "nbconvert_exporter": "python",
   "pygments_lexer": "ipython2",
   "version": "2.7.13"
  }
 },
 "nbformat": 4,
 "nbformat_minor": 2
}
